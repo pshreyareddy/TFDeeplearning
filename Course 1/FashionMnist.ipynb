{
  "nbformat": 4,
  "nbformat_minor": 0,
  "metadata": {
    "colab": {
      "name": "FashionMnist.ipynb",
      "version": "0.3.2",
      "provenance": []
    },
    "language_info": {
      "codemirror_mode": {
        "name": "ipython",
        "version": 3
      },
      "file_extension": ".py",
      "mimetype": "text/x-python",
      "name": "python",
      "nbconvert_exporter": "python",
      "pygments_lexer": "ipython3",
      "version": "3.6.4"
    },
    "kernelspec": {
      "name": "python3",
      "display_name": "Python 3"
    },
    "accelerator": "GPU"
  },
  "cells": [
    {
      "metadata": {
        "id": "yLqZSddDP9eY",
        "colab_type": "code",
        "outputId": "e39bf43f-85bf-49a4-f555-c8361ded4796",
        "colab": {}
      },
      "cell_type": "code",
      "source": [
        "import tensorflow as tf\n",
        "print(tf.__version__)"
      ],
      "execution_count": 0,
      "outputs": [
        {
          "output_type": "stream",
          "text": [
            "C:\\Users\\Hai\\Anaconda\\lib\\site-packages\\h5py\\__init__.py:36: FutureWarning: Conversion of the second argument of issubdtype from `float` to `np.floating` is deprecated. In future, it will be treated as `np.float64 == np.dtype(float).type`.\n",
            "  from ._conv import register_converters as _register_converters\n"
          ],
          "name": "stderr"
        },
        {
          "output_type": "stream",
          "text": [
            "1.10.0\n"
          ],
          "name": "stdout"
        }
      ]
    },
    {
      "metadata": {
        "id": "83NaCO2gP9en",
        "colab_type": "text"
      },
      "cell_type": "markdown",
      "source": [
        "The Fashion MNIST data is available directly in the tf.keras datasets API:"
      ]
    },
    {
      "metadata": {
        "id": "dclgjkICP9f-",
        "colab_type": "code",
        "colab": {}
      },
      "cell_type": "code",
      "source": [
        "mnist = tf.keras.datasets.fashion_mnist"
      ],
      "execution_count": 0,
      "outputs": []
    },
    {
      "metadata": {
        "id": "e-v_u511P9gD",
        "colab_type": "text"
      },
      "cell_type": "markdown",
      "source": [
        "Calling load_data on this object will give you two sets of two lists, these will be the training and testing values for the graphics that contain the clothing items and their labels."
      ]
    },
    {
      "metadata": {
        "id": "XrEJUvWfP9gE",
        "colab_type": "code",
        "colab": {}
      },
      "cell_type": "code",
      "source": [
        "(training_images, training_labels), (test_images, test_labels) = mnist.load_data()"
      ],
      "execution_count": 0,
      "outputs": []
    },
    {
      "metadata": {
        "id": "Q34ZHxmxP9gJ",
        "colab_type": "code",
        "outputId": "ab999aeb-110f-401b-9c85-faa60a7ac91f",
        "colab": {}
      },
      "cell_type": "code",
      "source": [
        "import matplotlib.pyplot as plt\n",
        "plt.imshow(training_images[0])\n",
        "print(training_labels[0])\n",
        "print(training_images[0])"
      ],
      "execution_count": 0,
      "outputs": [
        {
          "output_type": "stream",
          "text": [
            "9\n",
            "[[  0   0   0   0   0   0   0   0   0   0   0   0   0   0   0   0   0   0\n",
            "    0   0   0   0   0   0   0   0   0   0]\n",
            " [  0   0   0   0   0   0   0   0   0   0   0   0   0   0   0   0   0   0\n",
            "    0   0   0   0   0   0   0   0   0   0]\n",
            " [  0   0   0   0   0   0   0   0   0   0   0   0   0   0   0   0   0   0\n",
            "    0   0   0   0   0   0   0   0   0   0]\n",
            " [  0   0   0   0   0   0   0   0   0   0   0   0   1   0   0  13  73   0\n",
            "    0   1   4   0   0   0   0   1   1   0]\n",
            " [  0   0   0   0   0   0   0   0   0   0   0   0   3   0  36 136 127  62\n",
            "   54   0   0   0   1   3   4   0   0   3]\n",
            " [  0   0   0   0   0   0   0   0   0   0   0   0   6   0 102 204 176 134\n",
            "  144 123  23   0   0   0   0  12  10   0]\n",
            " [  0   0   0   0   0   0   0   0   0   0   0   0   0   0 155 236 207 178\n",
            "  107 156 161 109  64  23  77 130  72  15]\n",
            " [  0   0   0   0   0   0   0   0   0   0   0   1   0  69 207 223 218 216\n",
            "  216 163 127 121 122 146 141  88 172  66]\n",
            " [  0   0   0   0   0   0   0   0   0   1   1   1   0 200 232 232 233 229\n",
            "  223 223 215 213 164 127 123 196 229   0]\n",
            " [  0   0   0   0   0   0   0   0   0   0   0   0   0 183 225 216 223 228\n",
            "  235 227 224 222 224 221 223 245 173   0]\n",
            " [  0   0   0   0   0   0   0   0   0   0   0   0   0 193 228 218 213 198\n",
            "  180 212 210 211 213 223 220 243 202   0]\n",
            " [  0   0   0   0   0   0   0   0   0   1   3   0  12 219 220 212 218 192\n",
            "  169 227 208 218 224 212 226 197 209  52]\n",
            " [  0   0   0   0   0   0   0   0   0   0   6   0  99 244 222 220 218 203\n",
            "  198 221 215 213 222 220 245 119 167  56]\n",
            " [  0   0   0   0   0   0   0   0   0   4   0   0  55 236 228 230 228 240\n",
            "  232 213 218 223 234 217 217 209  92   0]\n",
            " [  0   0   1   4   6   7   2   0   0   0   0   0 237 226 217 223 222 219\n",
            "  222 221 216 223 229 215 218 255  77   0]\n",
            " [  0   3   0   0   0   0   0   0   0  62 145 204 228 207 213 221 218 208\n",
            "  211 218 224 223 219 215 224 244 159   0]\n",
            " [  0   0   0   0  18  44  82 107 189 228 220 222 217 226 200 205 211 230\n",
            "  224 234 176 188 250 248 233 238 215   0]\n",
            " [  0  57 187 208 224 221 224 208 204 214 208 209 200 159 245 193 206 223\n",
            "  255 255 221 234 221 211 220 232 246   0]\n",
            " [  3 202 228 224 221 211 211 214 205 205 205 220 240  80 150 255 229 221\n",
            "  188 154 191 210 204 209 222 228 225   0]\n",
            " [ 98 233 198 210 222 229 229 234 249 220 194 215 217 241  65  73 106 117\n",
            "  168 219 221 215 217 223 223 224 229  29]\n",
            " [ 75 204 212 204 193 205 211 225 216 185 197 206 198 213 240 195 227 245\n",
            "  239 223 218 212 209 222 220 221 230  67]\n",
            " [ 48 203 183 194 213 197 185 190 194 192 202 214 219 221 220 236 225 216\n",
            "  199 206 186 181 177 172 181 205 206 115]\n",
            " [  0 122 219 193 179 171 183 196 204 210 213 207 211 210 200 196 194 191\n",
            "  195 191 198 192 176 156 167 177 210  92]\n",
            " [  0   0  74 189 212 191 175 172 175 181 185 188 189 188 193 198 204 209\n",
            "  210 210 211 188 188 194 192 216 170   0]\n",
            " [  2   0   0   0  66 200 222 237 239 242 246 243 244 221 220 193 191 179\n",
            "  182 182 181 176 166 168  99  58   0   0]\n",
            " [  0   0   0   0   0   0   0  40  61  44  72  41  35   0   0   0   0   0\n",
            "    0   0   0   0   0   0   0   0   0   0]\n",
            " [  0   0   0   0   0   0   0   0   0   0   0   0   0   0   0   0   0   0\n",
            "    0   0   0   0   0   0   0   0   0   0]\n",
            " [  0   0   0   0   0   0   0   0   0   0   0   0   0   0   0   0   0   0\n",
            "    0   0   0   0   0   0   0   0   0   0]]\n"
          ],
          "name": "stdout"
        }
      ]
    },
    {
      "metadata": {
        "id": "ekVmk8PzP9gS",
        "colab_type": "text"
      },
      "cell_type": "markdown",
      "source": [
        "All the values of numbers are between 0 and 255. If we are training a neural network, for various reasons it's easier if we treat all values as between 0 and 1, a process called 'normalizing'"
      ]
    },
    {
      "metadata": {
        "id": "ZL1UZ_FzP9gT",
        "colab_type": "code",
        "colab": {}
      },
      "cell_type": "code",
      "source": [
        "training_images  = training_images / 255.0\n",
        "test_images = test_images / 255.0"
      ],
      "execution_count": 0,
      "outputs": []
    },
    {
      "metadata": {
        "id": "FI54-AP4P9gX",
        "colab_type": "text"
      },
      "cell_type": "markdown",
      "source": [
        "Define Model"
      ]
    },
    {
      "metadata": {
        "id": "uPqItIhGP9gY",
        "colab_type": "code",
        "colab": {}
      },
      "cell_type": "code",
      "source": [
        "model = tf.keras.models.Sequential([tf.keras.layers.Flatten(), \n",
        "                                    tf.keras.layers.Dense(128, activation=tf.nn.relu), \n",
        "                                    tf.keras.layers.Dense(10, activation=tf.nn.softmax)])"
      ],
      "execution_count": 0,
      "outputs": []
    },
    {
      "metadata": {
        "id": "BatYX7e-P9gh",
        "colab_type": "text"
      },
      "cell_type": "markdown",
      "source": [
        "**Sequential**: That defines a SEQUENCE of layers in the neural network\n",
        "\n",
        "**Flatten**: Remember earlier where our images were a square, when you printed them out? Flatten just takes that square and turns it into a 1 dimensional set.\n",
        "\n",
        "**Dense**: Adds a layer of neurons\n",
        "\n",
        "Each layer of neurons need an **activation function** to tell them what to do.\n",
        "\n",
        "**Relu** effectively means \"If X>0 return X, else return 0\" -- it only passes values 0 or greater to the next layer in the network.\n",
        "\n",
        "**Softmax** takes a set of values, and effectively picks the biggest one, so, for example, if the output of the last layer looks like [0.1, 0.1, 0.05, 0.1, 9.5, 0.1, 0.05, 0.05, 0.05], it saves you from fishing through it looking for the biggest value, and turns it into [0,0,0,0,1,0,0,0,0]"
      ]
    },
    {
      "metadata": {
        "id": "-kbOElqDP9hs",
        "colab_type": "text"
      },
      "cell_type": "markdown",
      "source": [
        "Build/Compile Model"
      ]
    },
    {
      "metadata": {
        "id": "-u-aqz5GP9hu",
        "colab_type": "code",
        "outputId": "e6f82881-8869-4408-cf68-d52775b43b0a",
        "colab": {}
      },
      "cell_type": "code",
      "source": [
        "model.compile(optimizer = tf.train.AdamOptimizer(),\n",
        "              loss = 'sparse_categorical_crossentropy',\n",
        "              metrics=['accuracy'])\n",
        "\n",
        "model.fit(training_images, training_labels, epochs=5)"
      ],
      "execution_count": 0,
      "outputs": [
        {
          "output_type": "stream",
          "text": [
            "Epoch 1/5\n",
            "60000/60000 [==============================] - 12s 194us/step - loss: 0.5002 - acc: 0.8246\n",
            "Epoch 2/5\n",
            "60000/60000 [==============================] - 8s 133us/step - loss: 0.3768 - acc: 0.8637\n",
            "Epoch 3/5\n",
            "60000/60000 [==============================] - 11s 182us/step - loss: 0.3381 - acc: 0.8762\n",
            "Epoch 4/5\n",
            "60000/60000 [==============================] - 10s 159us/step - loss: 0.3165 - acc: 0.8832\n",
            "Epoch 5/5\n",
            "60000/60000 [==============================] - 7s 122us/step - loss: 0.2979 - acc: 0.8889\n"
          ],
          "name": "stdout"
        },
        {
          "output_type": "execute_result",
          "data": {
            "text/plain": [
              "<tensorflow.python.keras.callbacks.History at 0x79801fbf28>"
            ]
          },
          "metadata": {
            "tags": []
          },
          "execution_count": 13
        }
      ]
    },
    {
      "metadata": {
        "id": "qZcc3ValP9iD",
        "colab_type": "text"
      },
      "cell_type": "markdown",
      "source": [
        "Evaluate Model"
      ]
    },
    {
      "metadata": {
        "id": "XtjZV5YKP9iF",
        "colab_type": "code",
        "outputId": "f181f872-7e13-4f36-9bf9-87a05de80186",
        "colab": {}
      },
      "cell_type": "code",
      "source": [
        "model.evaluate(test_images, test_labels)"
      ],
      "execution_count": 0,
      "outputs": [
        {
          "output_type": "stream",
          "text": [
            "10000/10000 [==============================] - 1s 121us/step\n"
          ],
          "name": "stdout"
        },
        {
          "output_type": "execute_result",
          "data": {
            "text/plain": [
              "[0.3565299671888351, 0.8711]"
            ]
          },
          "metadata": {
            "tags": []
          },
          "execution_count": 14
        }
      ]
    },
    {
      "metadata": {
        "id": "EUSzQudSP9iK",
        "colab_type": "text"
      },
      "cell_type": "markdown",
      "source": [
        "The model is 87.11% accurate on test data"
      ]
    },
    {
      "metadata": {
        "id": "dfo_ArQKP9iM",
        "colab_type": "text"
      },
      "cell_type": "markdown",
      "source": [
        "Exploration"
      ]
    },
    {
      "metadata": {
        "id": "M21fZcUCP9iN",
        "colab_type": "code",
        "outputId": "84bccda0-a0ee-4fe2-cefb-28e21083d1dd",
        "colab": {}
      },
      "cell_type": "code",
      "source": [
        "classifications = model.predict(test_images)\n",
        "\n",
        "print(classifications[0])"
      ],
      "execution_count": 0,
      "outputs": [
        {
          "output_type": "stream",
          "text": [
            "[7.3224513e-08 2.1255195e-08 1.6272395e-07 2.9288103e-07 4.5270767e-07\n",
            " 2.2786092e-02 3.7761365e-06 2.6003588e-02 1.2060289e-05 9.5119351e-01]\n"
          ],
          "name": "stdout"
        }
      ]
    },
    {
      "metadata": {
        "id": "dy2hkgYkP9iT",
        "colab_type": "code",
        "outputId": "96277227-6ee8-411f-de59-abf2d5f6fc7f",
        "colab": {}
      },
      "cell_type": "code",
      "source": [
        "print(test_labels[0])"
      ],
      "execution_count": 0,
      "outputs": [
        {
          "output_type": "stream",
          "text": [
            "9\n"
          ],
          "name": "stdout"
        }
      ]
    },
    {
      "metadata": {
        "id": "U2SD-3HaP9ia",
        "colab_type": "text"
      },
      "cell_type": "markdown",
      "source": [
        "The first image is classified as 9 (it has the highest probability in predictions)"
      ]
    },
    {
      "metadata": {
        "id": "hGbkwgK8P9ib",
        "colab_type": "text"
      },
      "cell_type": "markdown",
      "source": [
        "Impact of changing the dense layer neurons"
      ]
    },
    {
      "metadata": {
        "id": "lf84XSDUP9ie",
        "colab_type": "code",
        "outputId": "c2c5b1c4-9e33-4c1b-b931-cefa77f2e163",
        "colab": {}
      },
      "cell_type": "code",
      "source": [
        "import tensorflow as tf\n",
        "print(tf.__version__)\n",
        "\n",
        "mnist = tf.keras.datasets.mnist\n",
        "\n",
        "(training_images, training_labels) ,  (test_images, test_labels) = mnist.load_data()\n",
        "\n",
        "training_images = training_images/255.0\n",
        "test_images = test_images/255.0\n",
        "\n",
        "model = tf.keras.models.Sequential([tf.keras.layers.Flatten(),\n",
        "                                    tf.keras.layers.Dense(1024, activation=tf.nn.relu),\n",
        "                                    tf.keras.layers.Dense(10, activation=tf.nn.softmax)])\n",
        "\n",
        "model.compile(optimizer = 'adam',\n",
        "              loss = 'sparse_categorical_crossentropy')\n",
        "\n",
        "model.fit(training_images, training_labels, epochs=5)\n",
        "\n",
        "model.evaluate(test_images, test_labels)\n",
        "\n",
        "classifications = model.predict(test_images)\n",
        "\n",
        "print(classifications[0])\n",
        "print(test_labels[0])"
      ],
      "execution_count": 0,
      "outputs": [
        {
          "output_type": "stream",
          "text": [
            "1.10.0\n",
            "Downloading data from https://storage.googleapis.com/tensorflow/tf-keras-datasets/mnist.npz\n",
            "11493376/11490434 [==============================] - 10s 1us/step\n",
            "Epoch 1/5\n",
            "60000/60000 [==============================] - 40s 670us/step - loss: 0.1832\n",
            "Epoch 2/5\n",
            "60000/60000 [==============================] - 36s 592us/step - loss: 0.0732\n",
            "Epoch 3/5\n",
            "60000/60000 [==============================] - 36s 592us/step - loss: 0.0487\n",
            "Epoch 4/5\n",
            "60000/60000 [==============================] - 36s 599us/step - loss: 0.0345\n",
            "Epoch 5/5\n",
            "60000/60000 [==============================] - 38s 630us/step - loss: 0.0266\n",
            "10000/10000 [==============================] - 1s 131us/step\n",
            "[1.6722790e-10 2.9785667e-11 4.0057038e-09 1.4995891e-06 3.0686703e-15\n",
            " 4.0820920e-09 8.2015077e-16 9.9999797e-01 1.8009041e-08 4.2743952e-07]\n",
            "7\n"
          ],
          "name": "stdout"
        }
      ]
    },
    {
      "metadata": {
        "id": "WXBLwx6gP9io",
        "colab_type": "text"
      },
      "cell_type": "markdown",
      "source": [
        "Training takes longer, but is more accurate"
      ]
    },
    {
      "metadata": {
        "id": "tLfVkv0GP9ip",
        "colab_type": "text"
      },
      "cell_type": "markdown",
      "source": [
        "The effects of additional layers in the network. What will happen if you add another layer between the one with 512 and the final layer with 10.\n",
        "\n",
        "Ans: There isn't a significant impact -- because this is relatively simple data. For far more complex data, extra layers are often necessary."
      ]
    },
    {
      "metadata": {
        "id": "Khh5UXRTP9iq",
        "colab_type": "text"
      },
      "cell_type": "markdown",
      "source": [
        "Consider the impact of training for more or less epochs. Why do you think that would be the case?\n",
        "\n",
        "With 15 epochs -- we get a model with a much better loss than the one with 5 Try 30 epochs -- we see the loss value stops decreasing, and sometimes increases. This is a side effect of something called 'overfitting'."
      ]
    },
    {
      "metadata": {
        "id": "Ce1-JHjzP9ir",
        "colab_type": "code",
        "outputId": "fbdd9bab-2a7f-4fcb-d5ce-2de4418d70bb",
        "colab": {}
      },
      "cell_type": "code",
      "source": [
        "import tensorflow as tf\n",
        "print(tf.__version__)\n",
        "\n",
        "mnist = tf.keras.datasets.mnist\n",
        "\n",
        "(training_images, training_labels) ,  (test_images, test_labels) = mnist.load_data()\n",
        "\n",
        "training_images = training_images/255.0\n",
        "test_images = test_images/255.0\n",
        "\n",
        "model = tf.keras.models.Sequential([tf.keras.layers.Flatten(),\n",
        "                                    tf.keras.layers.Dense(512, activation=tf.nn.relu),\n",
        "                                    tf.keras.layers.Dense(256, activation=tf.nn.relu),\n",
        "                                    tf.keras.layers.Dense(10, activation=tf.nn.softmax)])\n",
        "\n",
        "model.compile(optimizer = 'adam',\n",
        "              loss = 'sparse_categorical_crossentropy')\n",
        "\n",
        "model.fit(training_images, training_labels, epochs=15)\n",
        "\n",
        "model.evaluate(test_images, test_labels)\n",
        "\n",
        "classifications = model.predict(test_images)\n",
        "\n",
        "print(classifications[0])\n",
        "print(test_labels[0])"
      ],
      "execution_count": 0,
      "outputs": [
        {
          "output_type": "stream",
          "text": [
            "1.10.0\n",
            "Epoch 1/15\n",
            "60000/60000 [==============================] - 28s 463us/step - loss: 0.1886\n",
            "Epoch 2/15\n",
            "60000/60000 [==============================] - 25s 408us/step - loss: 0.0802\n",
            "Epoch 3/15\n",
            "60000/60000 [==============================] - 25s 414us/step - loss: 0.0563\n",
            "Epoch 4/15\n",
            "60000/60000 [==============================] - 25s 412us/step - loss: 0.0422\n",
            "Epoch 5/15\n",
            "60000/60000 [==============================] - 25s 412us/step - loss: 0.0313\n",
            "Epoch 6/15\n",
            "60000/60000 [==============================] - 25s 413us/step - loss: 0.0286\n",
            "Epoch 7/15\n",
            "60000/60000 [==============================] - 25s 422us/step - loss: 0.0241\n",
            "Epoch 8/15\n",
            "60000/60000 [==============================] - 25s 418us/step - loss: 0.0215\n",
            "Epoch 9/15\n",
            "60000/60000 [==============================] - 26s 434us/step - loss: 0.0165\n",
            "Epoch 10/15\n",
            "60000/60000 [==============================] - 25s 421us/step - loss: 0.0189\n",
            "Epoch 11/15\n",
            "60000/60000 [==============================] - 25s 421us/step - loss: 0.0140\n",
            "Epoch 12/15\n",
            "60000/60000 [==============================] - 25s 419us/step - loss: 0.0182\n",
            "Epoch 13/15\n",
            "60000/60000 [==============================] - 24s 404us/step - loss: 0.0150\n",
            "Epoch 14/15\n",
            "60000/60000 [==============================] - 24s 405us/step - loss: 0.0121\n",
            "Epoch 15/15\n",
            "60000/60000 [==============================] - 24s 407us/step - loss: 0.0130\n",
            "10000/10000 [==============================] - 1s 96us/step\n",
            "[1.2079091e-18 1.1023008e-17 4.1822565e-15 3.9608864e-24 6.3607366e-21\n",
            " 1.4306081e-25 8.5298426e-28 1.0000000e+00 7.8682640e-19 4.2779387e-13]\n",
            "7\n"
          ],
          "name": "stdout"
        }
      ]
    },
    {
      "metadata": {
        "id": "EjSV5cf0P9iw",
        "colab_type": "code",
        "outputId": "5b83cd57-79d9-40fd-bae6-95cd89306679",
        "colab": {}
      },
      "cell_type": "code",
      "source": [
        "import tensorflow as tf\n",
        "print(tf.__version__)\n",
        "\n",
        "mnist = tf.keras.datasets.mnist\n",
        "\n",
        "(training_images, training_labels) ,  (test_images, test_labels) = mnist.load_data()\n",
        "\n",
        "training_images = training_images/255.0\n",
        "test_images = test_images/255.0\n",
        "\n",
        "model = tf.keras.models.Sequential([tf.keras.layers.Flatten(),\n",
        "                                    tf.keras.layers.Dense(512, activation=tf.nn.relu),\n",
        "                                    tf.keras.layers.Dense(256, activation=tf.nn.relu),\n",
        "                                    tf.keras.layers.Dense(10, activation=tf.nn.softmax)])\n",
        "\n",
        "model.compile(optimizer = 'adam',\n",
        "              loss = 'sparse_categorical_crossentropy')\n",
        "\n",
        "model.fit(training_images, training_labels, epochs=30)\n",
        "\n",
        "model.evaluate(test_images, test_labels)\n",
        "\n",
        "classifications = model.predict(test_images)\n",
        "\n",
        "print(classifications[0])\n",
        "print(test_labels[0])"
      ],
      "execution_count": 0,
      "outputs": [
        {
          "output_type": "stream",
          "text": [
            "C:\\Users\\Hai\\Anaconda\\lib\\site-packages\\h5py\\__init__.py:36: FutureWarning: Conversion of the second argument of issubdtype from `float` to `np.floating` is deprecated. In future, it will be treated as `np.float64 == np.dtype(float).type`.\n",
            "  from ._conv import register_converters as _register_converters\n"
          ],
          "name": "stderr"
        },
        {
          "output_type": "stream",
          "text": [
            "1.10.0\n",
            "Epoch 1/30\n",
            "60000/60000 [==============================] - 28s 460us/step - loss: 0.1874\n",
            "Epoch 2/30\n",
            "60000/60000 [==============================] - 25s 411us/step - loss: 0.0790\n",
            "Epoch 3/30\n",
            "60000/60000 [==============================] - 25s 422us/step - loss: 0.0562\n",
            "Epoch 4/30\n",
            "60000/60000 [==============================] - 26s 427us/step - loss: 0.0412\n",
            "Epoch 5/30\n",
            "60000/60000 [==============================] - 26s 428us/step - loss: 0.0334\n",
            "Epoch 6/30\n",
            "60000/60000 [==============================] - 24s 398us/step - loss: 0.0266\n",
            "Epoch 7/30\n",
            "60000/60000 [==============================] - 24s 405us/step - loss: 0.0239\n",
            "Epoch 8/30\n",
            "60000/60000 [==============================] - 23s 391us/step - loss: 0.0227\n",
            "Epoch 9/30\n",
            "60000/60000 [==============================] - 25s 414us/step - loss: 0.0179\n",
            "Epoch 10/30\n",
            "60000/60000 [==============================] - 25s 418us/step - loss: 0.0187\n",
            "Epoch 11/30\n",
            "60000/60000 [==============================] - 24s 397us/step - loss: 0.0156\n",
            "Epoch 12/30\n",
            "60000/60000 [==============================] - 26s 431us/step - loss: 0.0177\n",
            "Epoch 13/30\n",
            "60000/60000 [==============================] - 27s 447us/step - loss: 0.0150\n",
            "Epoch 14/30\n",
            "60000/60000 [==============================] - 23s 386us/step - loss: 0.0140\n",
            "Epoch 15/30\n",
            "60000/60000 [==============================] - 23s 390us/step - loss: 0.0149\n",
            "Epoch 16/30\n",
            "60000/60000 [==============================] - 22s 372us/step - loss: 0.0139\n",
            "Epoch 17/30\n",
            "60000/60000 [==============================] - 23s 391us/step - loss: 0.0119\n",
            "Epoch 18/30\n",
            "60000/60000 [==============================] - 25s 421us/step - loss: 0.0147\n",
            "Epoch 19/30\n",
            "60000/60000 [==============================] - 25s 416us/step - loss: 0.0116\n",
            "Epoch 20/30\n",
            "60000/60000 [==============================] - 26s 433us/step - loss: 0.0129\n",
            "Epoch 21/30\n",
            "60000/60000 [==============================] - 25s 424us/step - loss: 0.0110\n",
            "Epoch 22/30\n",
            "60000/60000 [==============================] - 25s 415us/step - loss: 0.0118\n",
            "Epoch 23/30\n",
            "60000/60000 [==============================] - 25s 417us/step - loss: 0.0123\n",
            "Epoch 24/30\n",
            "60000/60000 [==============================] - 29s 489us/step - loss: 0.0105\n",
            "Epoch 25/30\n",
            "60000/60000 [==============================] - 37s 611us/step - loss: 0.0110\n",
            "Epoch 26/30\n",
            "60000/60000 [==============================] - 29s 483us/step - loss: 0.0107\n",
            "Epoch 27/30\n",
            "60000/60000 [==============================] - 26s 430us/step - loss: 0.0112\n",
            "Epoch 28/30\n",
            "60000/60000 [==============================] - 25s 422us/step - loss: 0.0119\n",
            "Epoch 29/30\n",
            "60000/60000 [==============================] - 25s 423us/step - loss: 0.0068\n",
            "Epoch 30/30\n",
            "60000/60000 [==============================] - 24s 406us/step - loss: 0.0131\n",
            "10000/10000 [==============================] - 1s 82us/step\n",
            "[0.0000000e+00 1.2108882e-35 3.2485605e-36 8.8151644e-34 3.9465174e-37\n",
            " 4.1791149e-30 0.0000000e+00 1.0000000e+00 4.7185052e-35 1.4795205e-26]\n",
            "7\n"
          ],
          "name": "stdout"
        }
      ]
    },
    {
      "metadata": {
        "id": "M_r-UaL1P9i1",
        "colab_type": "text"
      },
      "cell_type": "markdown",
      "source": [
        "\n",
        "Impact of not normalizing data"
      ]
    },
    {
      "metadata": {
        "id": "nBxn3egFP9i2",
        "colab_type": "code",
        "outputId": "040f0cc6-9c09-4fab-e725-204046db4ef5",
        "colab": {}
      },
      "cell_type": "code",
      "source": [
        "import tensorflow as tf\n",
        "print(tf.__version__)\n",
        "mnist = tf.keras.datasets.mnist\n",
        "(training_images, training_labels), (test_images, test_labels) = mnist.load_data()\n",
        "training_images=training_images\n",
        "test_images=test_images\n",
        "model = tf.keras.models.Sequential([\n",
        "  tf.keras.layers.Flatten(),\n",
        "  tf.keras.layers.Dense(512, activation=tf.nn.relu),\n",
        "  tf.keras.layers.Dense(10, activation=tf.nn.softmax)\n",
        "])\n",
        "model.compile(optimizer='adam', loss='sparse_categorical_crossentropy')\n",
        "model.fit(training_images, training_labels, epochs=5)\n",
        "model.evaluate(test_images, test_labels)\n",
        "classifications = model.predict(test_images)\n",
        "print(classifications[0])\n",
        "print(test_labels[0])"
      ],
      "execution_count": 0,
      "outputs": [
        {
          "output_type": "stream",
          "text": [
            "1.10.0\n",
            "Epoch 1/5\n",
            "60000/60000 [==============================] - 25s 412us/step - loss: 11.4037\n",
            "Epoch 2/5\n",
            "60000/60000 [==============================] - 21s 349us/step - loss: 11.2471\n",
            "Epoch 3/5\n",
            "60000/60000 [==============================] - 21s 346us/step - loss: 10.6653\n",
            "Epoch 4/5\n",
            "60000/60000 [==============================] - 21s 348us/step - loss: 10.1149\n",
            "Epoch 5/5\n",
            "60000/60000 [==============================] - 21s 353us/step - loss: 9.9163\n",
            "10000/10000 [==============================] - 1s 72us/step\n",
            "[0. 0. 0. 0. 0. 0. 0. 1. 0. 0.]\n",
            "7\n"
          ],
          "name": "stdout"
        }
      ]
    },
    {
      "metadata": {
        "id": "MlZUaw1PP9i-",
        "colab_type": "text"
      },
      "cell_type": "markdown",
      "source": [
        "Using Call backs"
      ]
    },
    {
      "metadata": {
        "id": "NNQGk4uRP9i_",
        "colab_type": "code",
        "outputId": "735e7460-b3dd-4874-bd36-5e2c8817206f",
        "colab": {}
      },
      "cell_type": "code",
      "source": [
        "import tensorflow as tf\n",
        "print(tf.__version__)\n",
        "\n",
        "class myCallback(tf.keras.callbacks.Callback):\n",
        "  def on_epoch_end(self, epoch, logs={}):\n",
        "    if(logs.get('loss')<0.4):\n",
        "      print(\"\\nReached 60% accuracy so cancelling training!\")\n",
        "      self.model.stop_training = True\n",
        "\n",
        "callbacks = myCallback()\n",
        "mnist = tf.keras.datasets.fashion_mnist\n",
        "(training_images, training_labels), (test_images, test_labels) = mnist.load_data()\n",
        "training_images=training_images/255.0\n",
        "test_images=test_images/255.0\n",
        "model = tf.keras.models.Sequential([\n",
        "  tf.keras.layers.Flatten(),\n",
        "  tf.keras.layers.Dense(512, activation=tf.nn.relu),\n",
        "  tf.keras.layers.Dense(10, activation=tf.nn.softmax)\n",
        "])\n",
        "model.compile(optimizer='adam', loss='sparse_categorical_crossentropy')\n",
        "model.fit(training_images, training_labels, epochs=5, callbacks=[callbacks])\n"
      ],
      "execution_count": 0,
      "outputs": [
        {
          "output_type": "stream",
          "text": [
            "1.10.0\n",
            "Epoch 1/5\n",
            "60000/60000 [==============================] - 22s 364us/step - loss: 0.4770\n",
            "Epoch 2/5\n",
            "60000/60000 [==============================] - 22s 367us/step - loss: 0.3604\n",
            "\n",
            "Reached 60% accuracy so cancelling training!\n"
          ],
          "name": "stdout"
        },
        {
          "output_type": "execute_result",
          "data": {
            "text/plain": [
              "<tensorflow.python.keras.callbacks.History at 0xeb9cb92080>"
            ]
          },
          "metadata": {
            "tags": []
          },
          "execution_count": 3
        }
      ]
    },
    {
      "metadata": {
        "id": "_Zqv8ZASP9jF",
        "colab_type": "text"
      },
      "cell_type": "markdown",
      "source": [
        "Improving Computer Vision Accuracy using Convolutions\n",
        "\n"
      ]
    },
    {
      "metadata": {
        "id": "VzHQ5bR9P9jK",
        "colab_type": "code",
        "outputId": "fb6912eb-d207-4c63-956c-0003882cc98a",
        "colab": {}
      },
      "cell_type": "code",
      "source": [
        "import tensorflow as tf\n",
        "mnist = tf.keras.datasets.fashion_mnist\n",
        "(training_images, training_labels), (test_images, test_labels) = mnist.load_data()\n",
        "training_images=training_images / 255.0\n",
        "test_images=test_images / 255.0\n",
        "model = tf.keras.models.Sequential([\n",
        "  tf.keras.layers.Flatten(),\n",
        "  tf.keras.layers.Dense(128, activation=tf.nn.relu),\n",
        "  tf.keras.layers.Dense(10, activation=tf.nn.softmax)\n",
        "])\n",
        "model.compile(optimizer='adam', loss='sparse_categorical_crossentropy', metrics=['accuracy'])\n",
        "model.fit(training_images, training_labels, epochs=5)\n",
        "\n",
        "test_loss = model.evaluate(test_images, test_labels)"
      ],
      "execution_count": 0,
      "outputs": [
        {
          "output_type": "stream",
          "text": [
            "Epoch 1/5\n",
            "60000/60000 [==============================] - 11s 180us/step - loss: 0.4992 - acc: 0.8237\n",
            "Epoch 2/5\n",
            "60000/60000 [==============================] - 5s 89us/step - loss: 0.3703 - acc: 0.8671\n",
            "Epoch 3/5\n",
            "60000/60000 [==============================] - 5s 86us/step - loss: 0.3301 - acc: 0.8796\n",
            "Epoch 4/5\n",
            "60000/60000 [==============================] - 5s 87us/step - loss: 0.3070 - acc: 0.8872\n",
            "Epoch 5/5\n",
            "60000/60000 [==============================] - 5s 92us/step - loss: 0.2938 - acc: 0.8917\n",
            "10000/10000 [==============================] - 1s 106us/step\n"
          ],
          "name": "stdout"
        }
      ]
    },
    {
      "metadata": {
        "id": "BCsLpCBRP9jR",
        "colab_type": "text"
      },
      "cell_type": "markdown",
      "source": [
        "accuracy is probably about 89% on training and 87% on validation\n",
        "Use convolutions to improve it.Convoulution narrow down the content of the image to focus on specific, distinct, details.\n",
        "\n",
        "In short, you take an array (usually 3x3 or 5x5) and pass it over the image.\n",
        "By changing the underlying pixels based on the formula within that matrix, you can do things like edge detection. \n",
        "\n",
        "This is perfect for computer vision, because often it's features that can get highlighted like this that distinguish one item for another, and the amount of information needed is then much less...because you'll just train on the highlighted features.\n",
        "\n",
        "Add some layers to do convolution before you have the dense layers, and then the information going to the dense layers is more focussed, and possibly more accurate.\n",
        "\n"
      ]
    },
    {
      "metadata": {
        "id": "3BMonOtsP9jS",
        "colab_type": "code",
        "outputId": "13501cf5-5e5c-45de-c478-028e8b90c1c3",
        "colab": {
          "base_uri": "https://localhost:8080/",
          "height": 785
        }
      },
      "cell_type": "code",
      "source": [
        "import tensorflow as tf\n",
        "print(tf.__version__)\n",
        "mnist = tf.keras.datasets.fashion_mnist\n",
        "(training_images, training_labels), (test_images, test_labels) = mnist.load_data()\n",
        "training_images=training_images.reshape(60000, 28, 28, 1)\n",
        "training_images=training_images / 255.0\n",
        "test_images = test_images.reshape(10000, 28, 28, 1)\n",
        "test_images=test_images/255.0\n",
        "model = tf.keras.models.Sequential([\n",
        "  tf.keras.layers.Conv2D(64, (3,3), activation='relu', input_shape=(28, 28, 1)),\n",
        "  tf.keras.layers.MaxPooling2D(2, 2),\n",
        "  tf.keras.layers.Conv2D(64, (3,3), activation='relu'),\n",
        "  tf.keras.layers.MaxPooling2D(2,2),\n",
        "  tf.keras.layers.Flatten(),\n",
        "  tf.keras.layers.Dense(128, activation='relu'),\n",
        "  tf.keras.layers.Dense(10, activation='softmax')\n",
        "])\n",
        "model.compile(optimizer='adam', loss='sparse_categorical_crossentropy', metrics=['accuracy'])\n",
        "model.summary()\n",
        "model.fit(training_images, training_labels, epochs=5)\n",
        "test_loss = model.evaluate(test_images, test_labels)"
      ],
      "execution_count": 0,
      "outputs": [
        {
          "output_type": "stream",
          "text": [
            "1.13.1\n",
            "Downloading data from https://storage.googleapis.com/tensorflow/tf-keras-datasets/train-labels-idx1-ubyte.gz\n",
            "32768/29515 [=================================] - 0s 0us/step\n",
            "Downloading data from https://storage.googleapis.com/tensorflow/tf-keras-datasets/train-images-idx3-ubyte.gz\n",
            "26427392/26421880 [==============================] - 0s 0us/step\n",
            "Downloading data from https://storage.googleapis.com/tensorflow/tf-keras-datasets/t10k-labels-idx1-ubyte.gz\n",
            "8192/5148 [===============================================] - 0s 0us/step\n",
            "Downloading data from https://storage.googleapis.com/tensorflow/tf-keras-datasets/t10k-images-idx3-ubyte.gz\n",
            "4423680/4422102 [==============================] - 0s 0us/step\n",
            "WARNING:tensorflow:From /usr/local/lib/python3.6/dist-packages/tensorflow/python/ops/resource_variable_ops.py:435: colocate_with (from tensorflow.python.framework.ops) is deprecated and will be removed in a future version.\n",
            "Instructions for updating:\n",
            "Colocations handled automatically by placer.\n",
            "_________________________________________________________________\n",
            "Layer (type)                 Output Shape              Param #   \n",
            "=================================================================\n",
            "conv2d (Conv2D)              (None, 26, 26, 64)        640       \n",
            "_________________________________________________________________\n",
            "max_pooling2d (MaxPooling2D) (None, 13, 13, 64)        0         \n",
            "_________________________________________________________________\n",
            "conv2d_1 (Conv2D)            (None, 11, 11, 64)        36928     \n",
            "_________________________________________________________________\n",
            "max_pooling2d_1 (MaxPooling2 (None, 5, 5, 64)          0         \n",
            "_________________________________________________________________\n",
            "flatten (Flatten)            (None, 1600)              0         \n",
            "_________________________________________________________________\n",
            "dense (Dense)                (None, 128)               204928    \n",
            "_________________________________________________________________\n",
            "dense_1 (Dense)              (None, 10)                1290      \n",
            "=================================================================\n",
            "Total params: 243,786\n",
            "Trainable params: 243,786\n",
            "Non-trainable params: 0\n",
            "_________________________________________________________________\n",
            "Epoch 1/5\n",
            "60000/60000 [==============================] - 11s 188us/sample - loss: 0.4475 - acc: 0.8378\n",
            "Epoch 2/5\n",
            "60000/60000 [==============================] - 8s 132us/sample - loss: 0.2962 - acc: 0.8906\n",
            "Epoch 3/5\n",
            "60000/60000 [==============================] - 8s 132us/sample - loss: 0.2506 - acc: 0.9075\n",
            "Epoch 4/5\n",
            "60000/60000 [==============================] - 8s 131us/sample - loss: 0.2173 - acc: 0.9189\n",
            "Epoch 5/5\n",
            "60000/60000 [==============================] - 8s 131us/sample - loss: 0.1937 - acc: 0.9269\n",
            "10000/10000 [==============================] - 1s 59us/sample - loss: 0.2639 - acc: 0.9031\n"
          ],
          "name": "stdout"
        }
      ]
    },
    {
      "metadata": {
        "id": "hmq03hwMP9ja",
        "colab_type": "code",
        "colab": {}
      },
      "cell_type": "code",
      "source": [
        ""
      ],
      "execution_count": 0,
      "outputs": []
    },
    {
      "metadata": {
        "id": "CUx40aTvRIxI",
        "colab_type": "text"
      },
      "cell_type": "markdown",
      "source": [
        "The validation accuracy increase and then decreases.This is overfitting on the training data"
      ]
    },
    {
      "metadata": {
        "id": "WVH7c1vyRuMQ",
        "colab_type": "text"
      },
      "cell_type": "markdown",
      "source": [
        "Visualizing the Convolutions and Pooling\n",
        "This code will show us the convolutions graphically. The print (test_labels[;100]) shows us the first 100 labels in the test set, and you can see that the ones at index 0, index 23 and index 28 are all the same value (9). They're all shoes. Let's take a look at the result of running the convolution on each, and you'll begin to see common features between them emerge. Now, when the DNN is training on that data, it's working with a lot less, and it's perhaps finding a commonality between shoes based on this convolution/pooling combination."
      ]
    },
    {
      "metadata": {
        "id": "oHXeASvLRYmQ",
        "colab_type": "code",
        "outputId": "bb751d50-94e5-463d-e972-ce9b9849c29d",
        "colab": {
          "base_uri": "https://localhost:8080/",
          "height": 68
        }
      },
      "cell_type": "code",
      "source": [
        "print(test_labels[:100])"
      ],
      "execution_count": 0,
      "outputs": [
        {
          "output_type": "stream",
          "text": [
            "[9 2 1 1 6 1 4 6 5 7 4 5 7 3 4 1 2 4 8 0 2 5 7 9 1 4 6 0 9 3 8 8 3 3 8 0 7\n",
            " 5 7 9 6 1 3 7 6 7 2 1 2 2 4 4 5 8 2 2 8 4 8 0 7 7 8 5 1 1 2 3 9 8 7 0 2 6\n",
            " 2 3 1 2 8 4 1 8 5 9 5 0 3 2 0 6 5 3 6 7 1 8 0 1 4 2]\n"
          ],
          "name": "stdout"
        }
      ]
    },
    {
      "metadata": {
        "id": "eRos1fQkSBlu",
        "colab_type": "code",
        "outputId": "2bf52871-6b56-47db-e3df-548c829147eb",
        "colab": {
          "base_uri": "https://localhost:8080/",
          "height": 269
        }
      },
      "cell_type": "code",
      "source": [
        "import matplotlib.pyplot as plt\n",
        "f, axarr = plt.subplots(3,4)\n",
        "FIRST_IMAGE=0\n",
        "SECOND_IMAGE=7\n",
        "THIRD_IMAGE=26\n",
        "CONVOLUTION_NUMBER = 1\n",
        "from tensorflow.keras import models\n",
        "layer_outputs = [layer.output for layer in model.layers]\n",
        "activation_model = tf.keras.models.Model(inputs = model.input, outputs = layer_outputs)\n",
        "for x in range(0,4):\n",
        "  f1 = activation_model.predict(test_images[FIRST_IMAGE].reshape(1, 28, 28, 1))[x]\n",
        "  axarr[0,x].imshow(f1[0, : , :, CONVOLUTION_NUMBER], cmap='inferno')\n",
        "  axarr[0,x].grid(False)\n",
        "  f2 = activation_model.predict(test_images[SECOND_IMAGE].reshape(1, 28, 28, 1))[x]\n",
        "  axarr[1,x].imshow(f2[0, : , :, CONVOLUTION_NUMBER], cmap='inferno')\n",
        "  axarr[1,x].grid(False)\n",
        "  f3 = activation_model.predict(test_images[THIRD_IMAGE].reshape(1, 28, 28, 1))[x]\n",
        "  axarr[2,x].imshow(f3[0, : , :, CONVOLUTION_NUMBER], cmap='inferno')\n",
        "  axarr[2,x].grid(False)"
      ],
      "execution_count": 0,
      "outputs": [
        {
          "output_type": "display_data",
          "data": {
            "image/png": "[encoded data removed]",
            "text/plain": [
              "<Figure size 432x288 with 12 Axes>"
            ]
          },
          "metadata": {
            "tags": []
          }
        }
      ]
    },
    {
      "metadata": {
        "id": "n7AwuTObSZUs",
        "colab_type": "text"
      },
      "cell_type": "markdown",
      "source": [
        "1.Change the 32s to either 16 or 64. What impact will this have on accuracy and/or training time."
      ]
    },
    {
      "metadata": {
        "id": "RPoLtarmSgow",
        "colab_type": "code",
        "outputId": "95f98dad-839f-4562-b402-9a419a9d7a16",
        "colab": {
          "base_uri": "https://localhost:8080/",
          "height": 442
        }
      },
      "cell_type": "code",
      "source": [
        "import tensorflow as tf\n",
        "print(tf.__version__)\n",
        "mnist = tf.keras.datasets.mnist\n",
        "(training_images, training_labels), (test_images, test_labels) = mnist.load_data()\n",
        "training_images=training_images.reshape(60000, 28, 28, 1)\n",
        "training_images=training_images / 255.0\n",
        "test_images = test_images.reshape(10000, 28, 28, 1)\n",
        "test_images=test_images/255.0\n",
        "model = tf.keras.models.Sequential([\n",
        "  tf.keras.layers.Conv2D(16, (3,3), activation='relu', input_shape=(28, 28, 1)),\n",
        "  tf.keras.layers.MaxPooling2D(2, 2),\n",
        "  tf.keras.layers.Flatten(),\n",
        "  tf.keras.layers.Dense(128, activation='relu'),\n",
        "  tf.keras.layers.Dense(10, activation='softmax')\n",
        "])\n",
        "model.compile(optimizer='adam', loss='sparse_categorical_crossentropy', metrics=['accuracy'])\n",
        "model.fit(training_images, training_labels, epochs=10)\n",
        "test_loss, test_acc = model.evaluate(test_images, test_labels)\n",
        "print(test_acc)"
      ],
      "execution_count": 0,
      "outputs": [
        {
          "output_type": "stream",
          "text": [
            "1.13.1\n",
            "Downloading data from https://storage.googleapis.com/tensorflow/tf-keras-datasets/mnist.npz\n",
            "11493376/11490434 [==============================] - 0s 0us/step\n",
            "Epoch 1/10\n",
            "60000/60000 [==============================] - 7s 118us/sample - loss: 0.1556 - acc: 0.9542\n",
            "Epoch 2/10\n",
            "60000/60000 [==============================] - 7s 114us/sample - loss: 0.0549 - acc: 0.9832\n",
            "Epoch 3/10\n",
            "60000/60000 [==============================] - 7s 114us/sample - loss: 0.0366 - acc: 0.9885\n",
            "Epoch 4/10\n",
            "60000/60000 [==============================] - 7s 114us/sample - loss: 0.0241 - acc: 0.9923\n",
            "Epoch 5/10\n",
            "60000/60000 [==============================] - 7s 119us/sample - loss: 0.0170 - acc: 0.9943\n",
            "Epoch 6/10\n",
            "60000/60000 [==============================] - 7s 117us/sample - loss: 0.0132 - acc: 0.9958\n",
            "Epoch 7/10\n",
            "60000/60000 [==============================] - 7s 113us/sample - loss: 0.0093 - acc: 0.9970\n",
            "Epoch 8/10\n",
            "60000/60000 [==============================] - 7s 114us/sample - loss: 0.0075 - acc: 0.9976\n",
            "Epoch 9/10\n",
            "60000/60000 [==============================] - 7s 113us/sample - loss: 0.0056 - acc: 0.9982\n",
            "Epoch 10/10\n",
            "60000/60000 [==============================] - 7s 119us/sample - loss: 0.0058 - acc: 0.9981\n",
            "10000/10000 [==============================] - 1s 64us/sample - loss: 0.0537 - acc: 0.9861\n",
            "0.9861\n"
          ],
          "name": "stdout"
        }
      ]
    },
    {
      "metadata": {
        "id": "plAEFED4TJRf",
        "colab_type": "code",
        "outputId": "53f2baa0-3a7a-4f0b-8acb-3b9ca8cdf1b5",
        "colab": {
          "base_uri": "https://localhost:8080/",
          "height": 306
        }
      },
      "cell_type": "code",
      "source": [
        "model.summary()"
      ],
      "execution_count": 0,
      "outputs": [
        {
          "output_type": "stream",
          "text": [
            "_________________________________________________________________\n",
            "Layer (type)                 Output Shape              Param #   \n",
            "=================================================================\n",
            "conv2d_2 (Conv2D)            (None, 26, 26, 16)        160       \n",
            "_________________________________________________________________\n",
            "max_pooling2d_2 (MaxPooling2 (None, 13, 13, 16)        0         \n",
            "_________________________________________________________________\n",
            "flatten_1 (Flatten)          (None, 2704)              0         \n",
            "_________________________________________________________________\n",
            "dense_2 (Dense)              (None, 128)               346240    \n",
            "_________________________________________________________________\n",
            "dense_3 (Dense)              (None, 10)                1290      \n",
            "=================================================================\n",
            "Total params: 347,690\n",
            "Trainable params: 347,690\n",
            "Non-trainable params: 0\n",
            "_________________________________________________________________\n"
          ],
          "name": "stdout"
        }
      ]
    },
    {
      "metadata": {
        "id": "I5D-V4ciTfyY",
        "colab_type": "code",
        "outputId": "54a83b99-5732-4d65-bc75-0c25a1e42be1",
        "colab": {
          "base_uri": "https://localhost:8080/",
          "height": 408
        }
      },
      "cell_type": "code",
      "source": [
        "import tensorflow as tf\n",
        "print(tf.__version__)\n",
        "mnist = tf.keras.datasets.mnist\n",
        "(training_images, training_labels), (test_images, test_labels) = mnist.load_data()\n",
        "training_images=training_images.reshape(60000, 28, 28, 1)\n",
        "training_images=training_images / 255.0\n",
        "test_images = test_images.reshape(10000, 28, 28, 1)\n",
        "test_images=test_images/255.0\n",
        "model = tf.keras.models.Sequential([\n",
        "  tf.keras.layers.Conv2D(64, (3,3), activation='relu', input_shape=(28, 28, 1)),\n",
        "  tf.keras.layers.MaxPooling2D(2, 2),\n",
        "  tf.keras.layers.Flatten(),\n",
        "  tf.keras.layers.Dense(128, activation='relu'),\n",
        "  tf.keras.layers.Dense(10, activation='softmax')\n",
        "])\n",
        "model.compile(optimizer='adam', loss='sparse_categorical_crossentropy', metrics=['accuracy'])\n",
        "model.fit(training_images, training_labels, epochs=10)\n",
        "test_loss, test_acc = model.evaluate(test_images, test_labels)\n",
        "print(test_acc)"
      ],
      "execution_count": 0,
      "outputs": [
        {
          "output_type": "stream",
          "text": [
            "1.13.1\n",
            "Epoch 1/10\n",
            "60000/60000 [==============================] - 8s 132us/sample - loss: 0.1362 - acc: 0.9585\n",
            "Epoch 2/10\n",
            "60000/60000 [==============================] - 8s 129us/sample - loss: 0.0461 - acc: 0.9863\n",
            "Epoch 3/10\n",
            "60000/60000 [==============================] - 8s 127us/sample - loss: 0.0299 - acc: 0.9906\n",
            "Epoch 4/10\n",
            "60000/60000 [==============================] - 8s 135us/sample - loss: 0.0176 - acc: 0.9943\n",
            "Epoch 5/10\n",
            "60000/60000 [==============================] - 8s 131us/sample - loss: 0.0115 - acc: 0.9962\n",
            "Epoch 6/10\n",
            "60000/60000 [==============================] - 8s 127us/sample - loss: 0.0097 - acc: 0.9969\n",
            "Epoch 7/10\n",
            "60000/60000 [==============================] - 8s 127us/sample - loss: 0.0068 - acc: 0.9976\n",
            "Epoch 8/10\n",
            "60000/60000 [==============================] - 8s 127us/sample - loss: 0.0059 - acc: 0.9980\n",
            "Epoch 9/10\n",
            "60000/60000 [==============================] - 8s 127us/sample - loss: 0.0046 - acc: 0.9984\n",
            "Epoch 10/10\n",
            "60000/60000 [==============================] - 8s 133us/sample - loss: 0.0040 - acc: 0.9986\n",
            "10000/10000 [==============================] - 1s 68us/sample - loss: 0.0549 - acc: 0.9867\n",
            "0.9867\n"
          ],
          "name": "stdout"
        }
      ]
    },
    {
      "metadata": {
        "id": "uPfek6woTziX",
        "colab_type": "code",
        "outputId": "c809fc0d-8d2c-4bf5-b2bd-9ea2495e641b",
        "colab": {
          "base_uri": "https://localhost:8080/",
          "height": 306
        }
      },
      "cell_type": "code",
      "source": [
        "model.summary()"
      ],
      "execution_count": 0,
      "outputs": [
        {
          "output_type": "stream",
          "text": [
            "_________________________________________________________________\n",
            "Layer (type)                 Output Shape              Param #   \n",
            "=================================================================\n",
            "conv2d_3 (Conv2D)            (None, 26, 26, 64)        640       \n",
            "_________________________________________________________________\n",
            "max_pooling2d_3 (MaxPooling2 (None, 13, 13, 64)        0         \n",
            "_________________________________________________________________\n",
            "flatten_2 (Flatten)          (None, 10816)             0         \n",
            "_________________________________________________________________\n",
            "dense_4 (Dense)              (None, 128)               1384576   \n",
            "_________________________________________________________________\n",
            "dense_5 (Dense)              (None, 10)                1290      \n",
            "=================================================================\n",
            "Total params: 1,386,506\n",
            "Trainable params: 1,386,506\n",
            "Non-trainable params: 0\n",
            "_________________________________________________________________\n"
          ],
          "name": "stdout"
        }
      ]
    },
    {
      "metadata": {
        "id": "9DZciaI4T7px",
        "colab_type": "text"
      },
      "cell_type": "markdown",
      "source": [
        "2. Add a new convolution layer."
      ]
    },
    {
      "metadata": {
        "colab_type": "code",
        "outputId": "4273800d-fa60-4c50-c364-5b79fc6781b9",
        "id": "BUJ7LMumUm6X",
        "colab": {
          "base_uri": "https://localhost:8080/",
          "height": 408
        }
      },
      "cell_type": "code",
      "source": [
        "import tensorflow as tf\n",
        "print(tf.__version__)\n",
        "mnist = tf.keras.datasets.mnist\n",
        "(training_images, training_labels), (test_images, test_labels) = mnist.load_data()\n",
        "training_images=training_images.reshape(60000, 28, 28, 1)\n",
        "training_images=training_images / 255.0\n",
        "test_images = test_images.reshape(10000, 28, 28, 1)\n",
        "test_images=test_images/255.0\n",
        "model = tf.keras.models.Sequential([\n",
        "  tf.keras.layers.Conv2D(64, (3,3), activation='relu', input_shape=(28, 28, 1)),\n",
        "  tf.keras.layers.MaxPooling2D(2, 2),\n",
        "  tf.keras.layers.Conv2D(32, (3,3), activation='relu'),\n",
        "  tf.keras.layers.MaxPooling2D(2, 2),\n",
        "  tf.keras.layers.Flatten(),\n",
        "  tf.keras.layers.Dense(128, activation='relu'),\n",
        "  tf.keras.layers.Dense(10, activation='softmax')\n",
        "])\n",
        "model.compile(optimizer='adam', loss='sparse_categorical_crossentropy', metrics=['accuracy'])\n",
        "model.fit(training_images, training_labels, epochs=10)\n",
        "test_loss, test_acc = model.evaluate(test_images, test_labels)\n",
        "print(test_acc)"
      ],
      "execution_count": 0,
      "outputs": [
        {
          "output_type": "stream",
          "text": [
            "1.13.1\n",
            "Epoch 1/10\n",
            "60000/60000 [==============================] - 8s 139us/sample - loss: 0.1341 - acc: 0.9596\n",
            "Epoch 2/10\n",
            "60000/60000 [==============================] - 8s 136us/sample - loss: 0.0457 - acc: 0.9862\n",
            "Epoch 3/10\n",
            "60000/60000 [==============================] - 8s 135us/sample - loss: 0.0327 - acc: 0.9896\n",
            "Epoch 4/10\n",
            "60000/60000 [==============================] - 9s 146us/sample - loss: 0.0241 - acc: 0.9925\n",
            "Epoch 5/10\n",
            "60000/60000 [==============================] - 9s 143us/sample - loss: 0.0170 - acc: 0.9950\n",
            "Epoch 6/10\n",
            "60000/60000 [==============================] - 8s 138us/sample - loss: 0.0147 - acc: 0.9954\n",
            "Epoch 7/10\n",
            "60000/60000 [==============================] - 8s 135us/sample - loss: 0.0118 - acc: 0.9964\n",
            "Epoch 8/10\n",
            "60000/60000 [==============================] - 8s 134us/sample - loss: 0.0096 - acc: 0.9970\n",
            "Epoch 9/10\n",
            "60000/60000 [==============================] - 8s 134us/sample - loss: 0.0089 - acc: 0.9974\n",
            "Epoch 10/10\n",
            "60000/60000 [==============================] - 8s 134us/sample - loss: 0.0078 - acc: 0.9974\n",
            "10000/10000 [==============================] - 1s 64us/sample - loss: 0.0374 - acc: 0.9906\n",
            "0.9906\n"
          ],
          "name": "stdout"
        }
      ]
    },
    {
      "metadata": {
        "id": "IQSgw5gFVlT5",
        "colab_type": "text"
      },
      "cell_type": "markdown",
      "source": [
        "Call backs "
      ]
    },
    {
      "metadata": {
        "id": "0xg9ySp-VdxZ",
        "colab_type": "code",
        "outputId": "ce3f9421-5b54-4ba4-e42d-9d90fb4bf0e8",
        "colab": {
          "base_uri": "https://localhost:8080/",
          "height": 187
        }
      },
      "cell_type": "code",
      "source": [
        "import tensorflow as tf\n",
        "\n",
        "class myCallback(tf.keras.callbacks.Callback):\n",
        "  def on_epoch_end(self, epoch, logs={}):\n",
        "    if(logs.get('acc')>0.99):\n",
        "      print(\"\\nReached 99% accuracy so cancelling training!\")\n",
        "      self.model.stop_training = True\n",
        "\n",
        "mnist = tf.keras.datasets.mnist\n",
        "(training_images, training_labels), (test_images, test_labels) = mnist.load_data()\n",
        "training_images=training_images.reshape(60000, 28, 28, 1)\n",
        "training_images=training_images / 255.0\n",
        "test_images = test_images.reshape(10000, 28, 28, 1)\n",
        "test_images=test_images/255.0\n",
        "\n",
        "callbacks = myCallback()\n",
        "\n",
        "model = tf.keras.models.Sequential([\n",
        "  tf.keras.layers.Conv2D(64, (3,3), activation='relu', input_shape=(28, 28, 1)),\n",
        "  tf.keras.layers.MaxPooling2D(2, 2),\n",
        "  tf.keras.layers.Conv2D(32, (3,3), activation='relu'),\n",
        "  tf.keras.layers.MaxPooling2D(2, 2),\n",
        "  tf.keras.layers.Flatten(),\n",
        "  tf.keras.layers.Dense(128, activation='relu'),\n",
        "  tf.keras.layers.Dense(10, activation='softmax')\n",
        "])\n",
        "model.compile(optimizer='adam', loss='sparse_categorical_crossentropy', metrics=['accuracy'])\n",
        "\n",
        "\n",
        "model.fit(training_images, training_labels, epochs=10, callbacks=[callbacks])\n",
        "test_loss, test_acc = model.evaluate(test_images, test_labels)\n",
        "print(test_acc)"
      ],
      "execution_count": 0,
      "outputs": [
        {
          "output_type": "stream",
          "text": [
            "Epoch 1/10\n",
            "60000/60000 [==============================] - 8s 140us/sample - loss: 0.1334 - acc: 0.9592\n",
            "Epoch 2/10\n",
            "60000/60000 [==============================] - 8s 139us/sample - loss: 0.0435 - acc: 0.9864\n",
            "Epoch 3/10\n",
            "59680/60000 [============================>.] - ETA: 0s - loss: 0.0314 - acc: 0.9902\n",
            "Reached 99% accuracy so cancelling training!\n",
            "60000/60000 [==============================] - 8s 136us/sample - loss: 0.0314 - acc: 0.9902\n",
            "10000/10000 [==============================] - 1s 66us/sample - loss: 0.0273 - acc: 0.9905\n",
            "0.9905\n"
          ],
          "name": "stdout"
        }
      ]
    }
  ]
}