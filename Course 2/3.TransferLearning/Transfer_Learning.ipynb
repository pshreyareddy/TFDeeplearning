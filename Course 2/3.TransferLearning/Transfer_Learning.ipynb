{
  "nbformat": 4,
  "nbformat_minor": 0,
  "metadata": {
    "colab": {
      "name": "Transfer Learning.ipynb",
      "version": "0.3.2",
      "provenance": [],
      "collapsed_sections": []
    },
    "kernelspec": {
      "name": "python3",
      "display_name": "Python 3"
    },
    "accelerator": "GPU"
  },
  "cells": [
    {
      "metadata": {
        "colab_type": "code",
        "id": "1xJZ5glPPCRz",
        "outputId": "443c8c87-8d09-4d82-9826-d9666756abc6",
        "colab": {
          "base_uri": "https://localhost:8080/",
          "height": 292
        }
      },
      "cell_type": "code",
      "source": [
        "import os\n",
        "\n",
        "from tensorflow.keras import layers\n",
        "from tensorflow.keras import Model\n",
        "!wget --no-check-certificate \\\n",
        "    https://storage.googleapis.com/mledu-datasets/inception_v3_weights_tf_dim_ordering_tf_kernels_notop.h5 \\\n",
        "    -O /tmp/inception_v3_weights_tf_dim_ordering_tf_kernels_notop.h5\n",
        "  \n",
        "from tensorflow.keras.applications.inception_v3 import InceptionV3\n",
        "\n",
        "local_weights_file = '/tmp/inception_v3_weights_tf_dim_ordering_tf_kernels_notop.h5'\n",
        "\n",
        "pre_trained_model = InceptionV3(input_shape = (150, 150, 3), \n",
        "                                include_top = False, \n",
        "                                weights = None)\n",
        "\n",
        "pre_trained_model.load_weights(local_weights_file)\n",
        "\n",
        "for layer in pre_trained_model.layers:\n",
        "  layer.trainable = False\n",
        "  \n",
        "# pre_trained_model.summary()\n",
        "\n",
        "last_layer = pre_trained_model.get_layer('mixed7')\n",
        "print('last layer output shape: ', last_layer.output_shape)\n",
        "last_output = last_layer.output"
      ],
      "execution_count": 1,
      "outputs": [
        {
          "output_type": "stream",
          "text": [
            "--2019-04-27 17:13:49--  https://storage.googleapis.com/mledu-datasets/inception_v3_weights_tf_dim_ordering_tf_kernels_notop.h5\n",
            "Resolving storage.googleapis.com (storage.googleapis.com)... 216.58.197.208, 2404:6800:4004:80a::2010\n",
            "Connecting to storage.googleapis.com (storage.googleapis.com)|216.58.197.208|:443... connected.\n",
            "HTTP request sent, awaiting response... 200 OK\n",
            "Length: 87910968 (84M) [application/x-hdf]\n",
            "Saving to: ‘/tmp/inception_v3_weights_tf_dim_ordering_tf_kernels_notop.h5’\n",
            "\n",
            "/tmp/inception_v3_w 100%[===================>]  83.84M   110MB/s    in 0.8s    \n",
            "\n",
            "2019-04-27 17:13:50 (110 MB/s) - ‘/tmp/inception_v3_weights_tf_dim_ordering_tf_kernels_notop.h5’ saved [87910968/87910968]\n",
            "\n",
            "WARNING:tensorflow:From /usr/local/lib/python3.6/dist-packages/tensorflow/python/ops/resource_variable_ops.py:435: colocate_with (from tensorflow.python.framework.ops) is deprecated and will be removed in a future version.\n",
            "Instructions for updating:\n",
            "Colocations handled automatically by placer.\n",
            "last layer output shape:  (None, 7, 7, 768)\n"
          ],
          "name": "stdout"
        }
      ]
    },
    {
      "metadata": {
        "colab_type": "code",
        "id": "BMXb913pbvFg",
        "colab": {
          "base_uri": "https://localhost:8080/",
          "height": 88
        },
        "outputId": "90f0346f-b815-4910-a653-c1403af8e50e"
      },
      "cell_type": "code",
      "source": [
        "from tensorflow.keras.optimizers import RMSprop\n",
        "\n",
        "# Flatten the output layer to 1 dimension\n",
        "x = layers.Flatten()(last_output)\n",
        "# Add a fully connected layer with 1,024 hidden units and ReLU activation\n",
        "x = layers.Dense(1024, activation='relu')(x)\n",
        "# Add a dropout rate of 0.2\n",
        "x = layers.Dropout(0.2)(x)                  \n",
        "# Add a final sigmoid layer for classification\n",
        "x = layers.Dense  (1, activation='sigmoid')(x)           \n",
        "\n",
        "model = Model( pre_trained_model.input, x) \n",
        "\n",
        "model.compile(optimizer = RMSprop(lr=0.0001), \n",
        "              loss = 'binary_crossentropy', \n",
        "              metrics = ['acc'])\n"
      ],
      "execution_count": 2,
      "outputs": [
        {
          "output_type": "stream",
          "text": [
            "WARNING:tensorflow:From /usr/local/lib/python3.6/dist-packages/tensorflow/python/keras/layers/core.py:143: calling dropout (from tensorflow.python.ops.nn_ops) with keep_prob is deprecated and will be removed in a future version.\n",
            "Instructions for updating:\n",
            "Please use `rate` instead of `keep_prob`. Rate should be set to `rate = 1 - keep_prob`.\n"
          ],
          "name": "stdout"
        }
      ]
    },
    {
      "metadata": {
        "colab_type": "code",
        "id": "O4s8HckqGlnb",
        "outputId": "e361f4a4-7930-4f15-dbac-1a3688e4aad2",
        "colab": {
          "base_uri": "https://localhost:8080/",
          "height": 238
        }
      },
      "cell_type": "code",
      "source": [
        "!wget --no-check-certificate \\\n",
        "        https://storage.googleapis.com/mledu-datasets/cats_and_dogs_filtered.zip \\\n",
        "       -O /tmp/cats_and_dogs_filtered.zip\n",
        "\n",
        "from tensorflow.keras.preprocessing.image import ImageDataGenerator\n",
        "\n",
        "import os\n",
        "import zipfile\n",
        "\n",
        "local_zip = '//tmp/cats_and_dogs_filtered.zip'\n",
        "\n",
        "zip_ref = zipfile.ZipFile(local_zip, 'r')\n",
        "\n",
        "zip_ref.extractall('/tmp')\n",
        "zip_ref.close()\n",
        "\n",
        "# Define our example directories and files\n",
        "base_dir = '/tmp/cats_and_dogs_filtered'\n",
        "\n",
        "train_dir = os.path.join( base_dir, 'train')\n",
        "validation_dir = os.path.join( base_dir, 'validation')\n",
        "\n",
        "\n",
        "train_cats_dir = os.path.join(train_dir, 'cats') # Directory with our training cat pictures\n",
        "train_dogs_dir = os.path.join(train_dir, 'dogs') # Directory with our training dog pictures\n",
        "validation_cats_dir = os.path.join(validation_dir, 'cats') # Directory with our validation cat pictures\n",
        "validation_dogs_dir = os.path.join(validation_dir, 'dogs')# Directory with our validation dog pictures\n",
        "\n",
        "train_cat_fnames = os.listdir(train_cats_dir)\n",
        "train_dog_fnames = os.listdir(train_dogs_dir)\n",
        "\n",
        "# Add our data-augmentation parameters to ImageDataGenerator\n",
        "train_datagen = ImageDataGenerator(rescale = 1./255.,\n",
        "                                   rotation_range = 40,\n",
        "                                   width_shift_range = 0.2,\n",
        "                                   height_shift_range = 0.2,\n",
        "                                   shear_range = 0.2,\n",
        "                                   zoom_range = 0.2,\n",
        "                                   horizontal_flip = True)\n",
        "\n",
        "# Note that the validation data should not be augmented!\n",
        "test_datagen = ImageDataGenerator( rescale = 1.0/255. )\n",
        "\n",
        "# Flow training images in batches of 20 using train_datagen generator\n",
        "train_generator = train_datagen.flow_from_directory(train_dir,\n",
        "                                                    batch_size = 20,\n",
        "                                                    class_mode = 'binary', \n",
        "                                                    target_size = (150, 150))     \n",
        "\n",
        "# Flow validation images in batches of 20 using test_datagen generator\n",
        "validation_generator =  test_datagen.flow_from_directory( validation_dir,\n",
        "                                                          batch_size  = 20,\n",
        "                                                          class_mode  = 'binary', \n",
        "                                                          target_size = (150, 150))"
      ],
      "execution_count": 3,
      "outputs": [
        {
          "output_type": "stream",
          "text": [
            "--2019-04-27 17:14:33--  https://storage.googleapis.com/mledu-datasets/cats_and_dogs_filtered.zip\n",
            "Resolving storage.googleapis.com (storage.googleapis.com)... 172.217.27.80, 2404:6800:4004:807::2010\n",
            "Connecting to storage.googleapis.com (storage.googleapis.com)|172.217.27.80|:443... connected.\n",
            "HTTP request sent, awaiting response... 200 OK\n",
            "Length: 68606236 (65M) [application/zip]\n",
            "Saving to: ‘/tmp/cats_and_dogs_filtered.zip’\n",
            "\n",
            "/tmp/cats_and_dogs_ 100%[===================>]  65.43M   116MB/s    in 0.6s    \n",
            "\n",
            "2019-04-27 17:14:34 (116 MB/s) - ‘/tmp/cats_and_dogs_filtered.zip’ saved [68606236/68606236]\n",
            "\n",
            "Found 2000 images belonging to 2 classes.\n",
            "Found 1000 images belonging to 2 classes.\n"
          ],
          "name": "stdout"
        }
      ]
    },
    {
      "metadata": {
        "colab_type": "code",
        "id": "Blhq2MAUeyGA",
        "outputId": "28e79d45-c4ec-41a5-aa39-4d8899a2f96d",
        "colab": {
          "base_uri": "https://localhost:8080/",
          "height": 1108
        }
      },
      "cell_type": "code",
      "source": [
        "history = model.fit_generator(\n",
        "            train_generator,\n",
        "            validation_data = validation_generator,\n",
        "            steps_per_epoch = 100,\n",
        "            epochs = 20,\n",
        "            validation_steps = 50,\n",
        "            verbose = 2)"
      ],
      "execution_count": 4,
      "outputs": [
        {
          "output_type": "stream",
          "text": [
            "WARNING:tensorflow:From /usr/local/lib/python3.6/dist-packages/tensorflow/python/ops/math_ops.py:3066: to_int32 (from tensorflow.python.ops.math_ops) is deprecated and will be removed in a future version.\n",
            "Instructions for updating:\n",
            "Use tf.cast instead.\n",
            "Epoch 1/20\n",
            "50/50 [==============================] - 5s 109ms/step - loss: 0.1665 - acc: 0.9450\n",
            " - 22s - loss: 0.5004 - acc: 0.7555 - val_loss: 0.1665 - val_acc: 0.9450\n",
            "Epoch 2/20\n",
            "50/50 [==============================] - 4s 87ms/step - loss: 0.2050 - acc: 0.9480\n",
            " - 19s - loss: 0.3785 - acc: 0.8280 - val_loss: 0.2050 - val_acc: 0.9480\n",
            "Epoch 3/20\n",
            "50/50 [==============================] - 4s 87ms/step - loss: 0.3830 - acc: 0.9230\n",
            " - 18s - loss: 0.3286 - acc: 0.8640 - val_loss: 0.3830 - val_acc: 0.9230\n",
            "Epoch 4/20\n",
            "50/50 [==============================] - 4s 87ms/step - loss: 0.2501 - acc: 0.9520\n",
            " - 18s - loss: 0.3399 - acc: 0.8470 - val_loss: 0.2501 - val_acc: 0.9520\n",
            "Epoch 5/20\n",
            "50/50 [==============================] - 4s 87ms/step - loss: 0.3184 - acc: 0.9400\n",
            " - 18s - loss: 0.3229 - acc: 0.8665 - val_loss: 0.3184 - val_acc: 0.9400\n",
            "Epoch 6/20\n",
            "50/50 [==============================] - 4s 86ms/step - loss: 0.4051 - acc: 0.9300\n",
            " - 19s - loss: 0.2809 - acc: 0.8845 - val_loss: 0.4051 - val_acc: 0.9300\n",
            "Epoch 7/20\n",
            "50/50 [==============================] - 4s 86ms/step - loss: 0.3168 - acc: 0.9450\n",
            " - 18s - loss: 0.3087 - acc: 0.8665 - val_loss: 0.3168 - val_acc: 0.9450\n",
            "Epoch 8/20\n",
            "50/50 [==============================] - 4s 88ms/step - loss: 0.2790 - acc: 0.9570\n",
            " - 18s - loss: 0.3067 - acc: 0.8810 - val_loss: 0.2790 - val_acc: 0.9570\n",
            "Epoch 9/20\n",
            "50/50 [==============================] - 4s 87ms/step - loss: 0.8631 - acc: 0.8930\n",
            " - 18s - loss: 0.2755 - acc: 0.8845 - val_loss: 0.8631 - val_acc: 0.8930\n",
            "Epoch 10/20\n",
            "50/50 [==============================] - 5s 99ms/step - loss: 0.4298 - acc: 0.9400\n",
            " - 19s - loss: 0.2755 - acc: 0.8925 - val_loss: 0.4298 - val_acc: 0.9400\n",
            "Epoch 11/20\n",
            "50/50 [==============================] - 4s 86ms/step - loss: 0.2836 - acc: 0.9580\n",
            " - 18s - loss: 0.2862 - acc: 0.8800 - val_loss: 0.2836 - val_acc: 0.9580\n",
            "Epoch 12/20\n",
            "50/50 [==============================] - 4s 86ms/step - loss: 0.2508 - acc: 0.9630\n",
            " - 18s - loss: 0.2647 - acc: 0.8845 - val_loss: 0.2508 - val_acc: 0.9630\n",
            "Epoch 13/20\n",
            "50/50 [==============================] - 4s 87ms/step - loss: 0.4582 - acc: 0.9400\n",
            " - 19s - loss: 0.2797 - acc: 0.8860 - val_loss: 0.4582 - val_acc: 0.9400\n",
            "Epoch 14/20\n",
            "50/50 [==============================] - 5s 91ms/step - loss: 0.3870 - acc: 0.9500\n",
            " - 18s - loss: 0.2799 - acc: 0.8955 - val_loss: 0.3870 - val_acc: 0.9500\n",
            "Epoch 15/20\n",
            "50/50 [==============================] - 4s 87ms/step - loss: 0.3540 - acc: 0.9520\n",
            " - 19s - loss: 0.2419 - acc: 0.9025 - val_loss: 0.3540 - val_acc: 0.9520\n",
            "Epoch 16/20\n",
            "50/50 [==============================] - 4s 86ms/step - loss: 0.2838 - acc: 0.9590\n",
            " - 19s - loss: 0.2555 - acc: 0.9020 - val_loss: 0.2838 - val_acc: 0.9590\n",
            "Epoch 17/20\n",
            "50/50 [==============================] - 4s 85ms/step - loss: 0.3307 - acc: 0.9520\n",
            " - 18s - loss: 0.2399 - acc: 0.8980 - val_loss: 0.3307 - val_acc: 0.9520\n",
            "Epoch 18/20\n",
            "50/50 [==============================] - 4s 86ms/step - loss: 0.3831 - acc: 0.9530\n",
            " - 18s - loss: 0.2672 - acc: 0.9005 - val_loss: 0.3831 - val_acc: 0.9530\n",
            "Epoch 19/20\n",
            "50/50 [==============================] - 4s 86ms/step - loss: 0.4088 - acc: 0.9480\n",
            " - 19s - loss: 0.2374 - acc: 0.9005 - val_loss: 0.4088 - val_acc: 0.9480\n",
            "Epoch 20/20\n",
            "50/50 [==============================] - 4s 86ms/step - loss: 0.4308 - acc: 0.9460\n",
            " - 18s - loss: 0.2612 - acc: 0.9020 - val_loss: 0.4308 - val_acc: 0.9460\n"
          ],
          "name": "stdout"
        }
      ]
    },
    {
      "metadata": {
        "id": "C2Fp6Se9rKuL",
        "colab_type": "code",
        "outputId": "ff9e35ad-ca98-47ed-f6b8-7f2400de2157",
        "colab": {
          "base_uri": "https://localhost:8080/",
          "height": 298
        }
      },
      "cell_type": "code",
      "source": [
        "import matplotlib.pyplot as plt\n",
        "acc = history.history['acc']\n",
        "val_acc = history.history['val_acc']\n",
        "loss = history.history['loss']\n",
        "val_loss = history.history['val_loss']\n",
        "\n",
        "epochs = range(len(acc))\n",
        "\n",
        "plt.plot(epochs, acc, 'r', label='Training accuracy')\n",
        "plt.plot(epochs, val_acc, 'b', label='Validation accuracy')\n",
        "plt.title('Training and validation accuracy')\n",
        "plt.legend(loc=0)\n",
        "plt.figure()\n",
        "\n",
        "\n",
        "plt.show()"
      ],
      "execution_count": 5,
      "outputs": [
        {
          "output_type": "display_data",
          "data": {
            "image/png": "[encoded data removed]",
            "text/plain": [
              "<Figure size 432x288 with 1 Axes>"
            ]
          },
          "metadata": {
            "tags": []
          }
        },
        {
          "output_type": "display_data",
          "data": {
            "text/plain": [
              "<Figure size 432x288 with 0 Axes>"
            ]
          },
          "metadata": {
            "tags": []
          }
        }
      ]
    }
  ]
}